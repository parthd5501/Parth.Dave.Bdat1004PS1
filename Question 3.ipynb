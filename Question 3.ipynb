{
 "cells": [
  {
   "cell_type": "code",
   "execution_count": 34,
   "id": "20691a5a",
   "metadata": {},
   "outputs": [
    {
     "name": "stdout",
     "output_type": "stream",
     "text": [
      "Enter the length of the first side: 2\n",
      "Enter the length of the second side: 2\n",
      "Enter the length of the third side: 2\n",
      "The area of the triangle is:\n",
      "1.7320508075688772\n"
     ]
    }
   ],
   "source": [
    "\n",
    "\n",
    "def triangle_area(a, b, c):\n",
    "    s = (a + b + c) / 2\n",
    "    area = (s*(s-a)*(s-b)*(s-c)) ** 0.5\n",
    "    return area\n",
    "\n",
    "a = float(input('Enter the length of the first side: '))\n",
    "b = float(input('Enter the length of the second side: '))\n",
    "c = float(input('Enter the length of the third side: '))\n",
    "\n",
    "value = triangle_area(a, b, c)\n",
    "\n",
    "print(\"The area of the triangle is:\")\n",
    "print(value)\n"
   ]
  },
  {
   "cell_type": "code",
   "execution_count": null,
   "id": "6aeeeb07",
   "metadata": {},
   "outputs": [],
   "source": []
  },
  {
   "cell_type": "code",
   "execution_count": null,
   "id": "87371805",
   "metadata": {},
   "outputs": [],
   "source": []
  }
 ],
 "metadata": {
  "kernelspec": {
   "display_name": "Python 3 (ipykernel)",
   "language": "python",
   "name": "python3"
  },
  "language_info": {
   "codemirror_mode": {
    "name": "ipython",
    "version": 3
   },
   "file_extension": ".py",
   "mimetype": "text/x-python",
   "name": "python",
   "nbconvert_exporter": "python",
   "pygments_lexer": "ipython3",
   "version": "3.11.3"
  }
 },
 "nbformat": 4,
 "nbformat_minor": 5
}
