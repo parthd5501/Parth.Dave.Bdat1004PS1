{
 "cells": [
  {
   "cell_type": "code",
   "execution_count": 4,
   "id": "10a7c64a",
   "metadata": {},
   "outputs": [
    {
     "name": "stdout",
     "output_type": "stream",
     "text": [
      "Yes\n"
     ]
    }
   ],
   "source": [
    "def FindPoint(x1, y1, x2,\n",
    "              y2, x, y) :\n",
    "    if (x > x1 and x < x2 and\n",
    "        y > y1 and y < y2) :\n",
    "        return True\n",
    "    else :\n",
    "        return False\n",
    " \n",
    "\n",
    "if __name__ == \"__main__\" :\n",
    " \n",
    "    \n",
    "    x1 , y1 , x2 , y2 = 0, 0, 10, 8\n",
    " \n",
    "    # given point\n",
    "    x, y = 1, 5\n",
    " \n",
    "    # function call\n",
    "    if FindPoint(x1, y1, x2,\n",
    "                 y2, x, y) :\n",
    "        print(\"Yes\")\n",
    "    else :\n",
    "        print(\"No\")\n",
    " \n",
    "#refrence from geekstogeeks"
   ]
  },
  {
   "cell_type": "code",
   "execution_count": null,
   "id": "0b71ee6f",
   "metadata": {},
   "outputs": [],
   "source": []
  }
 ],
 "metadata": {
  "kernelspec": {
   "display_name": "Python 3 (ipykernel)",
   "language": "python",
   "name": "python3"
  },
  "language_info": {
   "codemirror_mode": {
    "name": "ipython",
    "version": 3
   },
   "file_extension": ".py",
   "mimetype": "text/x-python",
   "name": "python",
   "nbconvert_exporter": "python",
   "pygments_lexer": "ipython3",
   "version": "3.11.3"
  }
 },
 "nbformat": 4,
 "nbformat_minor": 5
}
