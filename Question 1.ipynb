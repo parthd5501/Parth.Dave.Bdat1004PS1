{
 "cells": [
  {
   "cell_type": "code",
   "execution_count": null,
   "id": "61d0de5b",
   "metadata": {},
   "outputs": [],
   "source": [
    "•\t5 - This is an integer data type (int).\n",
    "•\t5.0 - This is a floating-point number data type (double).\n",
    "•\t5 > 1 - This is a boolean data type (bool). The expression evaluates to true.\n",
    "•\t'5' - This is a character data type (char).\n",
    "•\t5 * 2 - This is an integer data type (int). The expression evaluates to 10.\n",
    "•\t'5' * 2 - This is an integer data type (int). The character '5' is implicitly converted to its ASCII value (53) and then multiplied by 2. The expression evaluates to 106.\n",
    "•\t'5' + '2' - This is a string data type (string). The characters '5' and '2' are concatenated to form the string \"52\".\n",
    "•\t5 / 2 - This is an integer data type (int). The expression evaluates to 2. Note that integer division truncates the decimal part.\n",
    "•\t5 % 2 - This is an integer data type (int). The expression evaluates to 1, which is the remainder of the integer division.\n",
    "•\t{5, 2, 1} - This is an array data type (int[] or List<int>). It represents an array or list of integers with values 5, 2, and 1.\n",
    "•\t5 == 3 - This is a boolean data type (bool). The expression evaluates to false.\n",
    "•\tPi (the number) - The data type depends on the context. In C#, if you are referring to the mathematical constant Pi, you can use the Math.PI constant, which is a double data type (double)."
   ]
  }
 ],
 "metadata": {
  "kernelspec": {
   "display_name": "Python 3 (ipykernel)",
   "language": "python",
   "name": "python3"
  },
  "language_info": {
   "codemirror_mode": {
    "name": "ipython",
    "version": 3
   },
   "file_extension": ".py",
   "mimetype": "text/x-python",
   "name": "python",
   "nbconvert_exporter": "python",
   "pygments_lexer": "ipython3",
   "version": "3.11.3"
  }
 },
 "nbformat": 4,
 "nbformat_minor": 5
}
