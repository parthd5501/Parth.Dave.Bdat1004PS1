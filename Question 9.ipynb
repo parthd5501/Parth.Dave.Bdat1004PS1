{
 "cells": [
  {
   "cell_type": "code",
   "execution_count": 2,
   "id": "bb659fdc",
   "metadata": {},
   "outputs": [
    {
     "ename": "SyntaxError",
     "evalue": "unterminated string literal (detected at line 7) (910043235.py, line 7)",
     "output_type": "error",
     "traceback": [
      "\u001b[0;36m  Cell \u001b[0;32mIn[2], line 7\u001b[0;36m\u001b[0m\n\u001b[0;31m    Using a value that is out of range for a function's input, such as calling math.sqrt(-1.0):\u001b[0m\n\u001b[0m                                                     ^\u001b[0m\n\u001b[0;31mSyntaxError\u001b[0m\u001b[0;31m:\u001b[0m unterminated string literal (detected at line 7)\n"
     ]
    }
   ],
   "source": [
    "    Trying to add incompatible variables, as in adding 6 + 'a':\n",
    "    This will cause a TypeError because you are attempting to perform addition between an integer (6) and a string ('a'), which are incompatible types for addition.\n",
    "\n",
    "    Referring to the 12 th item of a list that has only 10 items:\n",
    "    This will cause an IndexError because you are trying to access an index (12) that is outside the valid range of the list. In this case, the list has only 10 items, so valid indices range from 0 to 9.\n",
    "\n",
    "    Using a value that is out of range for a function's input, such as calling math.sqrt(-1.0):\n",
    "    This will cause a ValueError because the math.sqrt() function expects a non-negative value for its input. When you provide a negative value (-1.0 in this case), it is considered out of range for the square root operation.\n",
    "\n",
    "    Using an undeclared variable, such as print(x) when x has not been defined:\n",
    "    This will cause a NameError because the variable x has not been declared or assigned a value before attempting to use it in the print() statement. Python raises a NameError when it encounters a reference to an undefined variable.\n",
    "\n",
    "    Trying to open a file that does not exist, such as mistyping the file name or looking in the wrong directory:\n",
    "    This will cause a FileNotFoundError when attempting to open the file that does not exist. Python raises a FileNotFoundError when it cannot find the specified file based on the provided file name or path."
   ]
  },
  {
   "cell_type": "code",
   "execution_count": null,
   "id": "a601828a",
   "metadata": {},
   "outputs": [],
   "source": []
  }
 ],
 "metadata": {
  "kernelspec": {
   "display_name": "Python 3 (ipykernel)",
   "language": "python",
   "name": "python3"
  },
  "language_info": {
   "codemirror_mode": {
    "name": "ipython",
    "version": 3
   },
   "file_extension": ".py",
   "mimetype": "text/x-python",
   "name": "python",
   "nbconvert_exporter": "python",
   "pygments_lexer": "ipython3",
   "version": "3.11.3"
  }
 },
 "nbformat": 4,
 "nbformat_minor": 5
}
