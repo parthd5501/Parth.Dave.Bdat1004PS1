{
 "cells": [
  {
   "cell_type": "code",
   "execution_count": 12,
   "id": "5faa807f",
   "metadata": {},
   "outputs": [
    {
     "name": "stdout",
     "output_type": "stream",
     "text": [
      "Enter the word ::happy\n",
      "The piglatin sentence is:-\n",
      " appyhay\n"
     ]
    }
   ],
   "source": [
    "\n",
    "def Vowel(c): \n",
    "    vowel = ['A', 'E', 'I', 'O', 'U','a','e','i','o','u']\n",
    "    if c in vowel:\n",
    "        return True\n",
    "    else:\n",
    "        return False\n",
    "  \n",
    "def pig(s): \n",
    "    flag = False;\n",
    "    vow_index = 0\n",
    "    for i in range(len(s)): \n",
    "        if (Vowel(s[i])):\n",
    "            vow_index = i\n",
    "            flag = True; \n",
    "            break; \n",
    "    if (not flag): \n",
    "        return s; \n",
    "    pig = s[vow_index:] + s[0:vow_index] + \"ay\"\n",
    "    return pig\n",
    "\n",
    "\n",
    "sentence =str(input(\"Enter the word ::\"))\n",
    "\n",
    "list = sentence.split()\n",
    "\n",
    "pig_str = \"\"\n",
    "\n",
    "for word in list:\n",
    "    pig_str += \" \" + pig(word)\n",
    "\n",
    "print(\"The piglatin sentence is:-\")\n",
    "print(pig_str)"
   ]
  },
  {
   "cell_type": "code",
   "execution_count": null,
   "id": "8f0335d4",
   "metadata": {},
   "outputs": [],
   "source": []
  }
 ],
 "metadata": {
  "kernelspec": {
   "display_name": "Python 3 (ipykernel)",
   "language": "python",
   "name": "python3"
  },
  "language_info": {
   "codemirror_mode": {
    "name": "ipython",
    "version": 3
   },
   "file_extension": ".py",
   "mimetype": "text/x-python",
   "name": "python",
   "nbconvert_exporter": "python",
   "pygments_lexer": "ipython3",
   "version": "3.11.3"
  }
 },
 "nbformat": 4,
 "nbformat_minor": 5
}
