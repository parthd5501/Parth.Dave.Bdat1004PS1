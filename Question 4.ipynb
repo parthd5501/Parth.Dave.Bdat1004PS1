{
 "cells": [
  {
   "cell_type": "code",
   "execution_count": 1,
   "id": "aa19b9ce",
   "metadata": {},
   "outputs": [
    {
     "name": "stdout",
     "output_type": "stream",
     "text": [
      "Enter the size of the First List ::4\n",
      "Enter the Element of First  List ::\n",
      "1\n",
      "2\n",
      "3\n",
      "4\n",
      "Even lists: [2, 4]\n",
      "Odd lists: [1, 3]\n"
     ]
    }
   ],
   "source": [
    "def Z(A): \n",
    "   even = [] \n",
    "   odd = [] \n",
    "   for i in A: \n",
    "      if (i % 2 == 0): \n",
    "         even.append(i) \n",
    "      else: \n",
    "         odd.append(i) \n",
    "   print(\"Even lists:\", even) \n",
    "   print(\"Odd lists:\", odd) \n",
    "  \n",
    "A=list()\n",
    "n=int(input(\"Enter the size of the First List ::\"))\n",
    "print(\"Enter the Element of First  List ::\")\n",
    "for i in range(int(n)):\n",
    "   k=int(input(\"\"))\n",
    "   A.append(k)\n",
    "Z(A)\n"
   ]
  },
  {
   "cell_type": "code",
   "execution_count": null,
   "id": "3b200bbb",
   "metadata": {},
   "outputs": [],
   "source": []
  }
 ],
 "metadata": {
  "kernelspec": {
   "display_name": "Python 3 (ipykernel)",
   "language": "python",
   "name": "python3"
  },
  "language_info": {
   "codemirror_mode": {
    "name": "ipython",
    "version": 3
   },
   "file_extension": ".py",
   "mimetype": "text/x-python",
   "name": "python",
   "nbconvert_exporter": "python",
   "pygments_lexer": "ipython3",
   "version": "3.11.3"
  }
 },
 "nbformat": 4,
 "nbformat_minor": 5
}
